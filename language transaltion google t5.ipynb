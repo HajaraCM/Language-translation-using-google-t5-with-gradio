{
 "cells": [
  {
   "cell_type": "code",
   "execution_count": 1,
   "id": "1067d1db-234d-40fb-9e8c-b72073538495",
   "metadata": {},
   "outputs": [],
   "source": [
    "import gradio as gr                   # UI library\n",
    "from transformers import pipeline     # Transformers pipeline"
   ]
  },
  {
   "cell_type": "code",
   "execution_count": 2,
   "id": "6b59ee9b-015c-4b66-8166-e2bd513892ea",
   "metadata": {},
   "outputs": [
    {
     "name": "stderr",
     "output_type": "stream",
     "text": [
      "C:\\Users\\HP\\anaconda3\\Lib\\site-packages\\transformers\\models\\marian\\tokenization_marian.py:175: UserWarning: Recommended: pip install sacremoses.\n",
      "  warnings.warn(\"Recommended: pip install sacremoses.\")\n",
      "Device set to use cpu\n",
      "No model was supplied, defaulted to google-t5/t5-base and revision a9723ea (https://huggingface.co/google-t5/t5-base).\n",
      "Using a pipeline without specifying a model name and revision in production is not recommended.\n",
      "Device set to use cpu\n"
     ]
    }
   ],
   "source": [
    "translation_en_hi = pipeline('translation_en_to_hi',model='Helsinki-NLP/opus-mt-en-hi',framework='pt')\n",
    "translation_en_de = pipeline('translation_en_to_de',framework='pt')"
   ]
  },
  {
   "cell_type": "code",
   "execution_count": 3,
   "id": "ecf5b594-2eb9-4c30-b711-daf151a574b9",
   "metadata": {},
   "outputs": [],
   "source": [
    "results = translation_en_hi('I love ice cream')"
   ]
  },
  {
   "cell_type": "code",
   "execution_count": 4,
   "id": "4c282ab2-40a7-44af-a6f4-69e043f77c22",
   "metadata": {},
   "outputs": [
    {
     "data": {
      "text/plain": [
       "'मैं आइसक्रीम प्यार करता हूँ'"
      ]
     },
     "execution_count": 4,
     "metadata": {},
     "output_type": "execute_result"
    }
   ],
   "source": [
    "results[0]['translation_text']"
   ]
  },
  {
   "cell_type": "code",
   "execution_count": 5,
   "id": "bb5c99ac-d56e-4556-9651-68f07790788c",
   "metadata": {},
   "outputs": [],
   "source": [
    "def translate_transformers(text,target_lang):\n",
    "   if target_lang=='Hindi':\n",
    "       return translation_en_hi(text)[0]['translation_text']\n",
    "   elif target_lang == 'German':\n",
    "        return translation_en_de(text)[0]['translation_text']\n",
    "   else:\n",
    "        return \"Unsupported language\""
   ]
  },
  {
   "cell_type": "code",
   "execution_count": 6,
   "id": "ffb99dbb-fada-4677-8f03-4fd15efed545",
   "metadata": {},
   "outputs": [
    {
     "data": {
      "text/plain": [
       "'Wie sind Sie?'"
      ]
     },
     "execution_count": 6,
     "metadata": {},
     "output_type": "execute_result"
    }
   ],
   "source": [
    "translate_transformers('How are you',target_lang='German')"
   ]
  },
  {
   "cell_type": "code",
   "execution_count": 7,
   "id": "e13f220e-0a2c-4276-af0b-472d8d858c85",
   "metadata": {},
   "outputs": [],
   "source": [
    "# Create Gradio Interface\n",
    "interface = gr.Interface(\n",
    "    fn=translate_transformers, \n",
    "    inputs=[gr.Textbox(lines=2, placeholder='Enter English text'),\n",
    "            gr.Dropdown(choices=[\"Hindi\", \"German\"], label=\"Target Language\")],\n",
    "    outputs=gr.Textbox(lines=2),\n",
    "    title=\"English to Target Language Translation App\"\n",
    ")\n"
   ]
  },
  {
   "cell_type": "code",
   "execution_count": 8,
   "id": "3d332b4d-449e-4437-ab07-a7ef56b8873e",
   "metadata": {},
   "outputs": [
    {
     "name": "stdout",
     "output_type": "stream",
     "text": [
      "* Running on local URL:  http://127.0.0.1:7860\n",
      "\n",
      "To create a public link, set `share=True` in `launch()`.\n"
     ]
    },
    {
     "data": {
      "text/html": [
       "<div><iframe src=\"http://127.0.0.1:7860/\" width=\"100%\" height=\"500\" allow=\"autoplay; camera; microphone; clipboard-read; clipboard-write;\" frameborder=\"0\" allowfullscreen></iframe></div>"
      ],
      "text/plain": [
       "<IPython.core.display.HTML object>"
      ]
     },
     "metadata": {},
     "output_type": "display_data"
    },
    {
     "data": {
      "text/plain": []
     },
     "execution_count": 8,
     "metadata": {},
     "output_type": "execute_result"
    }
   ],
   "source": [
    "interface.launch()"
   ]
  },
  {
   "cell_type": "code",
   "execution_count": null,
   "id": "2b6a73b3-67a2-45c8-a308-d095100bf145",
   "metadata": {},
   "outputs": [],
   "source": []
  }
 ],
 "metadata": {
  "kernelspec": {
   "display_name": "Python 3 (ipykernel)",
   "language": "python",
   "name": "python3"
  },
  "language_info": {
   "codemirror_mode": {
    "name": "ipython",
    "version": 3
   },
   "file_extension": ".py",
   "mimetype": "text/x-python",
   "name": "python",
   "nbconvert_exporter": "python",
   "pygments_lexer": "ipython3",
   "version": "3.12.7"
  }
 },
 "nbformat": 4,
 "nbformat_minor": 5
}
